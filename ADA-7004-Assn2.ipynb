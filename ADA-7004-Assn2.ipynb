{
 "cells": [
  {
   "cell_type": "markdown",
   "metadata": {},
   "source": [
    "## Assignment 2 (CISC 371)\n",
    "\n",
    "The following is my second assignment for CISC 372. The contents of the background regarding the assignment is located in my ```README.md```. "
   ]
  },
  {
   "cell_type": "markdown",
   "metadata": {},
   "source": [
    "# Part 1: Image Classification using CNN\n",
    "\n",
    "In this part, the creation of a basic CNN model that can identify an image is required. \n",
    "\n",
    "The following are the 13 subcategories of images:\n",
    "1. Topwear.\n",
    "2. Bottomwear.\n",
    "3. Innerwear.\n",
    "4. Bags.\n",
    "5. Watches.\n",
    "6. Jewellery.\n",
    "7. Eyewear.\n",
    "8. Wallets.\n",
    "9. Shoes.\n",
    "10. Sandal.\n",
    "11. Makeup.\n",
    "12. Fragrance. \n",
    "13. Others. \n",
    "\n",
    "We are given a dataset of 44,441 fashion product images, and two files: ```train.csv```, and ```test.csv```. These both contain meta-data related to each image; ```image id```, ```label```, and ```productDisplayName```."
   ]
  },
  {
   "cell_type": "markdown",
   "metadata": {},
   "source": [
    "### Justifications Behind My Model\n"
   ]
  },
  {
   "cell_type": "code",
   "execution_count": 54,
   "metadata": {},
   "outputs": [
    {
     "name": "stdout",
     "output_type": "stream",
     "text": [
      "Dimensions of Training Dataset\n",
      "Rows: 40441, Columns: 2\n",
      "Dimensions of Testing Dataset\n",
      "Rows: 4000, Columns: 2\n"
     ]
    }
   ],
   "source": [
    "import numpy as np\n",
    "import pandas as pd\n",
    "import matplotlib.pyplot as plot\n",
    "import os as operating_system\n",
    "import missingno as msno\n",
    "import csv\n",
    "\n",
    "def extract(csv_file=\"\"):\n",
    "    return pd.read_csv(csv_file, sep='\\t')\n",
    "    \n",
    "def load_dataframe(data, column_fields=[]):\n",
    "    return data[column_fields].dropna()\n",
    "\n",
    "def dimension(dataframe):\n",
    "    return dataframe.shape\n",
    "\n",
    "raw_train = extract('train.csv')\n",
    "train = load_dataframe(raw_train, [\"imageid\", \"label\"])\n",
    "\n",
    "raw_test = extract('test.csv')\n",
    "test = load_dataframe(raw_test, [\"imageid\", \"label\"])\n",
    "\n",
    "row_train, col_train = dimension(train)\n",
    "row_test, col_test = dimension(test)\n",
    "\n",
    "print(f'Dimensions of Training Dataset\\nRows: {row_train}, Columns: {col_train}')\n",
    "print(f'Dimensions of Testing Dataset\\nRows: {row_test}, Columns: {col_test}')\n",
    "\n",
    "\n"
   ]
  },
  {
   "cell_type": "markdown",
   "metadata": {},
   "source": [
    "## References\n",
    "\n",
    "[1] https://pandas.pydata.org/docs/getting_started/intro_tutorials/03_subset_data.html"
   ]
  }
 ],
 "metadata": {
  "kernelspec": {
   "display_name": "Python 3",
   "language": "python",
   "name": "python3"
  },
  "language_info": {
   "codemirror_mode": {
    "name": "ipython",
    "version": 3
   },
   "file_extension": ".py",
   "mimetype": "text/x-python",
   "name": "python",
   "nbconvert_exporter": "python",
   "pygments_lexer": "ipython3",
   "version": "3.12.1"
  }
 },
 "nbformat": 4,
 "nbformat_minor": 2
}
