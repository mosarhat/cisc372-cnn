{
 "cells": [
  {
   "cell_type": "markdown",
   "metadata": {},
   "source": [
    "## Assignment 2 (CISC 371)\n",
    "\n",
    "The following is my second assignment for CISC 372. The contents of the background regarding the assignment is located in my ```README.md```. "
   ]
  }
 ],
 "metadata": {
  "language_info": {
   "name": "python"
  }
 },
 "nbformat": 4,
 "nbformat_minor": 2
}
